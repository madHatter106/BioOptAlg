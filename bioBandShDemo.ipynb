{
 "metadata": {
  "name": "bioBandShDemo.ipynb"
 },
 "nbformat": 3,
 "nbformat_minor": 0,
 "worksheets": [
  {
   "cells": [
    {
     "cell_type": "heading",
     "level": 3,
     "metadata": {},
     "source": [
      "Bandshifting Test"
     ]
    },
    {
     "cell_type": "code",
     "collapsed": false,
     "input": [
      "import pandas as pd\n",
      "from pandas import DataFrame as df\n",
      "import numpy as np\n",
      "from bioOptipy.bioOptipy import find_nearest\n"
     ],
     "language": "python",
     "metadata": {},
     "outputs": [],
     "prompt_number": 10
    },
    {
     "cell_type": "code",
     "collapsed": false,
     "input": [
      "def getAwBw(wvl):\n",
      "    import numpy as np\n",
      "    #lam must be an array of wavelengths\n",
      "    lwv = len(wvl)\n",
      "    # read in file containing Aw,Bw coeffs and make a LUT out of it\n",
      "    fname = '/disk01/home/ekarakoy/BANDSHIFTING/BIO-OPTICAL/water_a_bb.csv'\n",
      "    tableAwBw = pd.read_csv(fname,index_col=['wvl'])\n",
      "    aw = np.empty(lwv)\n",
      "    bbw = np.empty(lwv)\n",
      "    for lam,idx in zip(wvl,np.arange(lwv)):\n",
      "        aw[idx],bbw[idx] = tableAwBw.loc[int(lam),['aw','bbw']]\n",
      "    awbbw = np.vstack((aw,bbw))\n",
      "    awbbw = df(awbbw,index=['aw','bbw'],columns=[int(w) for w in wvl])\n",
      "    return awbbw"
     ],
     "language": "python",
     "metadata": {},
     "outputs": [],
     "prompt_number": 195
    },
    {
     "cell_type": "code",
     "collapsed": false,
     "input": [
      "def getBricaud(wvl,version = 1995):\n",
      "    \n",
      "    import numpy as np\n",
      "    lwv = len(wvl)\n",
      "    if version == 1995:\n",
      "        fname ='/disk01/home/ekarakoy/BANDSHIFTING/BIO-OPTICAL/aph_bricaud_1995.txt'\n",
      "    tableBricaudAB = pd.read_csv(fname,index_col='wvl')\n",
      "    A = np.empty(lwv);B=np.empty(lwv)\n",
      "    for lam,idx in zip(wvl,np.arange(lwv)):\n",
      "        A[idx],B[idx] = tableBricaudAB.loc[int(lam),['A','B']]\n",
      "    AB = np.vstack((A,B))\n",
      "    #generate \n",
      "    AB = df(AB,index=['A','B'],columns =[int(w) for w in wvl])\n",
      "    \n",
      "    return AB"
     ],
     "language": "python",
     "metadata": {},
     "outputs": [],
     "prompt_number": 196
    },
    {
     "cell_type": "code",
     "collapsed": false,
     "input": [
      "def calcQAA443(Rrs,wvl):\n",
      "    import numpy as np\n",
      "    # Inputs\n",
      "    # Rrs: array of shape r entries by c wavelengths\n",
      "    # wvl: vector of length c, corresponding to the columns of Rrs\n",
      "    # lam0 is greenband, wavelength in nm.\n",
      "    #wvl=wvl.reshape\n",
      "\n",
      "    Rrs = np.array(Rrs)\n",
      "    wvl = np.array(wvl)\n",
      "    lam0 = find_nearest(wvl,550)\n",
      "    lRrs = len(Rrs)\n",
      "    \n",
      "    \n",
      "    coef1 = 0.52; coef2 = 1.7\n",
      "    g0 = 0.089; g1 = 0.125\n",
      "    # perform red band correction/replacement\n",
      "    up667 = 20 * Rrs[:,4] **1.5\n",
      "    lw667 = 0.9 * Rrs[:,4] ** 1.7\n",
      "    corrIdx = np.greater(Rrs[:,4],up667) * np.less(Rrs[:,4],lw667)\n",
      "    Rrs[corrIdx,5] = 1.27 * (Rrs[corrIdx,4]) ** 1.47 + \\\n",
      "                            0.00018 * (Rrs[corrIdx,4] / Rrs[corrIdx,2]) ** 3.19\n",
      "    print Rrs[corrIdx,5]\n",
      "    aw_bbw = getAwBw(wvl)\n",
      "    aw = np.array(aw_bbw.ix['aw'])\n",
      "    bbw = np.array(aw_bbw.ix['bbw'])        \n",
      "    # compute below surface reflectance\n",
      "    rrs = Rrs / (coef1 + coef2 * Rrs)\n",
      "    u_rat = (-g0 + np.sqrt((g0**2) + 4 * g1 * rrs)) / (2 * g1)\n",
      "    a0_exp = np.log10((rrs[:,1] + rrs[:,2]) / (rrs[:,4] + 5 * \\\n",
      "        (rrs[:,5] / rrs[:,2]) * rrs[:,5]))\n",
      "    \n",
      "    a0 = aw[4] + 10. ** (-1.146 - (1.366 * a0_exp) - (0.469 * a0_exp ** 2))\n",
      "    bbp0 = u_rat[:,4] * a0 / (1-u_rat[:,4]) - bbw[4]\n",
      "    bbp_exp = 2. * ( 1. - 1.2 * np.exp(-0.9 * rrs[:,1] / rrs[:,4]))\n",
      "    # correct size of bbp parameters for vectorized operation\n",
      "    bbp0 = bbp0.reshape(lRrs,1)\n",
      "    bbp_exp = np.tile(bbp_exp.reshape(lRrs,1),(1,2))\n",
      "    # estimate aph41x/aph443\n",
      "    aph_rat = 0.74 + (0.2 / (0.8 + rrs[:,1] / rrs[:,4]))\n",
      "    adg_slope = 0.015 + 0.002 / (0.6 + rrs[:,1] / rrs[:,4])\n",
      "    adg_rat = np.exp(adg_slope * (wvl[1] - wvl[0]))\n",
      "    # estimate bbp at 41x and 443nm\n",
      "    bbp = bbp0 * (lam0 / wvl[:2]) ** bbp_exp\n",
      "    # estimate a at 41x and 443nm\n",
      "    a = (1 - u_rat[:,:2]) * (bbp + bbw[:2]) / u_rat[:,:2]\n",
      "    adg443 = ((a[:,0] - aph_rat * a[:,1]) - (aw[0] - aph_rat * aw[1])) / \\\n",
      "        (adg_rat - aph_rat)\n",
      "    aph443 = a[:,1] - aw[1] - adg443\n",
      "    bbp443 = bbp[:,1]\n",
      "    \n",
      "    return adg443,aph443,bbp443"
     ],
     "language": "python",
     "metadata": {},
     "outputs": [],
     "prompt_number": 197
    },
    {
     "cell_type": "code",
     "collapsed": false,
     "input": [
      "fname =\"/disk01/home/ekarakoy/BANDSHIFTING/BIO-OPTICAL/TestData/IOP_AOP_Sun30_Abrev.csv\"\n",
      "rrsAll = pd.read_csv(fname)\n",
      "wvlAll = np.array([int(w) for w in rrsAll.columns]) \n",
      "\n",
      "rrsWvl = [412,443,490,510,555,670]\n",
      "rrsWvl = find_nearest(wvlAll,wvl)\n",
      "targetWvl = [531]\n",
      "targetWvl = find_nearest(wvlAll,targetWvl)\n",
      "targetRrs = rrsAll.loc[:,str(int(targetWvl))]\n",
      "rrs = rrsAll.loc[:,[str(int(w)) for w in rrsWvl]]\n",
      "wvlAll\n",
      "rrs.head()"
     ],
     "language": "python",
     "metadata": {},
     "outputs": [
      {
       "html": [
        "<div style=\"max-height:1000px;max-width:1500px;overflow:auto;\">\n",
        "<table border=\"1\" class=\"dataframe\">\n",
        "  <thead>\n",
        "    <tr style=\"text-align: right;\">\n",
        "      <th></th>\n",
        "      <th>410</th>\n",
        "      <th>440</th>\n",
        "      <th>490</th>\n",
        "      <th>510</th>\n",
        "      <th>550</th>\n",
        "      <th>670</th>\n",
        "    </tr>\n",
        "  </thead>\n",
        "  <tbody>\n",
        "    <tr>\n",
        "      <th>0</th>\n",
        "      <td> 0.016610</td>\n",
        "      <td> 0.012722</td>\n",
        "      <td> 0.007278</td>\n",
        "      <td> 0.003772</td>\n",
        "      <td> 0.001889</td>\n",
        "      <td> 0.000142</td>\n",
        "    </tr>\n",
        "    <tr>\n",
        "      <th>1</th>\n",
        "      <td> 0.010074</td>\n",
        "      <td> 0.008572</td>\n",
        "      <td> 0.005724</td>\n",
        "      <td> 0.003052</td>\n",
        "      <td> 0.001549</td>\n",
        "      <td> 0.000111</td>\n",
        "    </tr>\n",
        "    <tr>\n",
        "      <th>2</th>\n",
        "      <td> 0.012356</td>\n",
        "      <td> 0.010238</td>\n",
        "      <td> 0.006502</td>\n",
        "      <td> 0.003445</td>\n",
        "      <td> 0.001747</td>\n",
        "      <td> 0.000133</td>\n",
        "    </tr>\n",
        "    <tr>\n",
        "      <th>3</th>\n",
        "      <td> 0.013503</td>\n",
        "      <td> 0.012384</td>\n",
        "      <td> 0.008741</td>\n",
        "      <td> 0.004642</td>\n",
        "      <td> 0.002363</td>\n",
        "      <td> 0.000180</td>\n",
        "    </tr>\n",
        "    <tr>\n",
        "      <th>4</th>\n",
        "      <td> 0.013914</td>\n",
        "      <td> 0.011016</td>\n",
        "      <td> 0.006548</td>\n",
        "      <td> 0.003312</td>\n",
        "      <td> 0.001644</td>\n",
        "      <td> 0.000119</td>\n",
        "    </tr>\n",
        "  </tbody>\n",
        "</table>\n",
        "</div>"
       ],
       "metadata": {},
       "output_type": "pyout",
       "prompt_number": 228,
       "text": [
        "        410       440       490       510       550       670\n",
        "0  0.016610  0.012722  0.007278  0.003772  0.001889  0.000142\n",
        "1  0.010074  0.008572  0.005724  0.003052  0.001549  0.000111\n",
        "2  0.012356  0.010238  0.006502  0.003445  0.001747  0.000133\n",
        "3  0.013503  0.012384  0.008741  0.004642  0.002363  0.000180\n",
        "4  0.013914  0.011016  0.006548  0.003312  0.001644  0.000119"
       ]
      }
     ],
     "prompt_number": 228
    },
    {
     "cell_type": "code",
     "collapsed": false,
     "input": [
      "#Load data file, generated by Hydrolight, 30$^\\circ$ sun angle"
     ],
     "language": "python",
     "metadata": {},
     "outputs": []
    },
    {
     "cell_type": "code",
     "collapsed": false,
     "input": [
      "from numpy import exp\n",
      "s = 0.015\n",
      "g0 = 0.089;g1 = 0.125\n",
      "c1 = -0.52;c2 = 1.7\n",
      "refWvl= int(find_nearest(rrsWvl,443))\n"
     ],
     "language": "python",
     "metadata": {},
     "outputs": [],
     "prompt_number": 198
    },
    {
     "cell_type": "markdown",
     "metadata": {},
     "source": [
      "SWF-specific settings"
     ]
    },
    {
     "cell_type": "code",
     "collapsed": false,
     "input": [
      "gWvl = find_nearest(rrsWvl,550)\n",
      "inputWvl = find_nearest(rrsWvl,[510,555])\n",
      "inputRrs = rrs.loc[:,[str(int(w)) for w in inputWvl]]\n",
      "outputWvl = find_nearest(wvlAll,[531,531])\n",
      "ldim1,ldim2 = inputRrs.shape\n",
      "ldim3 = len(outputWvl)\n",
      "adg443,aph443,bbp443 = calcQAA443(rrs,rrsWvl)\n",
      "b2g = np.array(rrs.loc[:,[str(int(refWvl))]])/np.array(rrs.loc[:,[str(int(gWvl))]])\n",
      "sdg = s + 0.002 / (0.6 + b2g)\n",
      "yy = 2 * (1 - 1.2 * exp(-0.9 * b2g))\n",
      "AB = getBricaud(rrsWvl)\n",
      "awbbw = getAwBw(rrsWvl)\n",
      "chla = (aph443 / AB.loc['A',refWvl]) ** (1 / (1 - AB.loc['B',refWvl]))\n",
      "lli = inputWvl - refWvl\n",
      "aph_i = (np.tile(np.expand_dims(AB.loc['A',inputWvl],axis=0),(ldim1,1)) * \\\n",
      "        np.tile(np.expand_dims(chla,axis=1),(1,ldim2))) \\\n",
      "            ** np.tile(np.expand_dims(AB.loc['B',inputWvl],axis=0),(ldim1,1))\n",
      "\n",
      "adg_i = np.tile(np.expand_dims(adg443,axis=1),(1,ldim2)) * \\\n",
      "        exp(-np.tile(sdg,(1,ldim2)) * \\\n",
      "        np.tile(np.expand_dims(lli,axis=0),(ldim1,1)))\n",
      "\n",
      "bbp_i = np.tile(np.expand_dims(bbp443,axis=1),(1,ldim2)) * \\\n",
      "    (refWvl / np.tile(np.expand_dims(inputWvl,axis=0),(ldim1,1))) \\\n",
      "    ** np.tile(yy,(1,ldim2))\n",
      "\n",
      "a_tot_i = aph_i + adg_i + \\\n",
      "    np.tile(np.expand_dims(awbbw.loc['aw',inputWvl],axis=0),(ldim1,1))\n",
      "\n",
      "bb_tot_i = bbp_i + np.tile(np.expand_dims(awbbw.loc['bbw',inputWvl],axis=0),(ldim1,1))\n",
      "# use qaa in fwd mode to get above-water rrs at input/output wvls\n",
      "qaa_fwd_i = bb_tot_i / (a_tot_i + bb_tot_i)\n",
      "qaa_rrs_bw_i = (g0 + g1 * qaa_fwd_i) * qaa_fwd_i\n",
      "qaa_rrs_aw_i = (c1 * qaa_rrs_bw_i) / ((c2 * qaa_rrs_bw_i) - 1)\n",
      "AB_o = getBricaud(outputWvl)\n",
      "awbbw_o = getAwBw(outputWvl)\n",
      "aph_o = (np.tile(np.expand_dims(AB_o.ix['A'],axis=0),(ldim1,1)) * \\\n",
      "        np.tile(np.expand_dims(chla,axis=1),(1,ldim3))) \\\n",
      "            ** np.tile(np.expand_dims(AB_o.ix['B'],axis=0),(ldim1,1))\n",
      "llo = outputWvl - refWvl\n",
      "adg_o = np.tile(np.expand_dims(adg443,axis=1),(1,ldim3)) * \\\n",
      "        exp(-np.tile(sdg,(1,ldim3)) * \\\n",
      "        np.tile(np.expand_dims(llo,axis=0),(ldim1,1)))\n",
      "bbp_o = np.tile(np.expand_dims(bbp443,axis=1),(1,ldim3)) * \\\n",
      "    (refWvl / np.tile(np.expand_dims(outputWvl,axis=0),(ldim1,1))) \\\n",
      "    ** np.tile(yy,(1,ldim3))\n",
      "    \n",
      "a_tot_o = aph_o + adg_o + \\\n",
      "    np.tile(np.expand_dims(awbbw_o.ix['aw'],axis=0),(ldim1,1))\n",
      "bb_tot_o = bbp_o + np.tile(np.expand_dims(awbbw_o.ix['bbw'],axis=0),(ldim1,1))\n",
      "\n",
      "#use QAA in fwd mode to get above water rrs at input & output wvls...\n",
      "qaa_fwd_o = bb_tot_o / (a_tot_o + bb_tot_o)\n",
      "qaa_rrs_bw_o = (g0 + g1 * qaa_fwd_o) * qaa_fwd_o\n",
      "qaa_rrs_aw_o = (c1 * qaa_rrs_bw_o) / ((c2 * qaa_rrs_bw_o) - 1)\n",
      "correc_fac = qaa_rrs_aw_o/qaa_rrs_aw_i\n",
      "outputRrs = inputRrs * correc_fac"
     ],
     "language": "python",
     "metadata": {},
     "outputs": [
      {
       "output_type": "stream",
       "stream": "stdout",
       "text": [
        "[]\n"
       ]
      }
     ],
     "prompt_number": 230
    },
    {
     "cell_type": "code",
     "collapsed": false,
     "input": [
      "inputRrs.head()"
     ],
     "language": "python",
     "metadata": {},
     "outputs": [
      {
       "html": [
        "<div style=\"max-height:1000px;max-width:1500px;overflow:auto;\">\n",
        "<table border=\"1\" class=\"dataframe\">\n",
        "  <thead>\n",
        "    <tr style=\"text-align: right;\">\n",
        "      <th></th>\n",
        "      <th>510</th>\n",
        "      <th>550</th>\n",
        "    </tr>\n",
        "  </thead>\n",
        "  <tbody>\n",
        "    <tr>\n",
        "      <th>0</th>\n",
        "      <td> 0.003772</td>\n",
        "      <td> 0.001889</td>\n",
        "    </tr>\n",
        "    <tr>\n",
        "      <th>1</th>\n",
        "      <td> 0.003052</td>\n",
        "      <td> 0.001549</td>\n",
        "    </tr>\n",
        "    <tr>\n",
        "      <th>2</th>\n",
        "      <td> 0.003445</td>\n",
        "      <td> 0.001747</td>\n",
        "    </tr>\n",
        "    <tr>\n",
        "      <th>3</th>\n",
        "      <td> 0.004642</td>\n",
        "      <td> 0.002363</td>\n",
        "    </tr>\n",
        "    <tr>\n",
        "      <th>4</th>\n",
        "      <td> 0.003312</td>\n",
        "      <td> 0.001644</td>\n",
        "    </tr>\n",
        "  </tbody>\n",
        "</table>\n",
        "</div>"
       ],
       "metadata": {},
       "output_type": "pyout",
       "prompt_number": 231,
       "text": [
        "        510       550\n",
        "0  0.003772  0.001889\n",
        "1  0.003052  0.001549\n",
        "2  0.003445  0.001747\n",
        "3  0.004642  0.002363\n",
        "4  0.003312  0.001644"
       ]
      }
     ],
     "prompt_number": 231
    },
    {
     "cell_type": "code",
     "collapsed": false,
     "input": [
      "AB"
     ],
     "language": "python",
     "metadata": {},
     "outputs": [
      {
       "html": [
        "<div style=\"max-height:1000px;max-width:1500px;overflow:auto;\">\n",
        "<table border=\"1\" class=\"dataframe\">\n",
        "  <thead>\n",
        "    <tr style=\"text-align: right;\">\n",
        "      <th></th>\n",
        "      <th>410</th>\n",
        "      <th>440</th>\n",
        "      <th>490</th>\n",
        "      <th>510</th>\n",
        "      <th>550</th>\n",
        "      <th>670</th>\n",
        "    </tr>\n",
        "  </thead>\n",
        "  <tbody>\n",
        "    <tr>\n",
        "      <th>A</th>\n",
        "      <td> 0.0313</td>\n",
        "      <td> 0.0403</td>\n",
        "      <td> 0.0274</td>\n",
        "      <td> 0.018</td>\n",
        "      <td> 0.008</td>\n",
        "      <td> 0.0189</td>\n",
        "    </tr>\n",
        "    <tr>\n",
        "      <th>B</th>\n",
        "      <td> 0.2830</td>\n",
        "      <td> 0.3320</td>\n",
        "      <td> 0.3610</td>\n",
        "      <td> 0.260</td>\n",
        "      <td> 0.052</td>\n",
        "      <td> 0.1490</td>\n",
        "    </tr>\n",
        "  </tbody>\n",
        "</table>\n",
        "</div>"
       ],
       "metadata": {},
       "output_type": "pyout",
       "prompt_number": 232,
       "text": [
        "      410     440     490    510    550     670\n",
        "A  0.0313  0.0403  0.0274  0.018  0.008  0.0189\n",
        "B  0.2830  0.3320  0.3610  0.260  0.052  0.1490"
       ]
      }
     ],
     "prompt_number": 232
    },
    {
     "cell_type": "code",
     "collapsed": false,
     "input": [
      "outputRrs.head()"
     ],
     "language": "python",
     "metadata": {},
     "outputs": [
      {
       "html": [
        "<div style=\"max-height:1000px;max-width:1500px;overflow:auto;\">\n",
        "<table border=\"1\" class=\"dataframe\">\n",
        "  <thead>\n",
        "    <tr style=\"text-align: right;\">\n",
        "      <th></th>\n",
        "      <th>510</th>\n",
        "      <th>550</th>\n",
        "    </tr>\n",
        "  </thead>\n",
        "  <tbody>\n",
        "    <tr>\n",
        "      <th>0</th>\n",
        "      <td> 0.001683</td>\n",
        "      <td> 0.003750</td>\n",
        "    </tr>\n",
        "    <tr>\n",
        "      <th>1</th>\n",
        "      <td> 0.001354</td>\n",
        "      <td> 0.003105</td>\n",
        "    </tr>\n",
        "    <tr>\n",
        "      <th>2</th>\n",
        "      <td> 0.001533</td>\n",
        "      <td> 0.003484</td>\n",
        "    </tr>\n",
        "    <tr>\n",
        "      <th>3</th>\n",
        "      <td> 0.002009</td>\n",
        "      <td> 0.004813</td>\n",
        "    </tr>\n",
        "    <tr>\n",
        "      <th>4</th>\n",
        "      <td> 0.001453</td>\n",
        "      <td> 0.003317</td>\n",
        "    </tr>\n",
        "  </tbody>\n",
        "</table>\n",
        "</div>"
       ],
       "metadata": {},
       "output_type": "pyout",
       "prompt_number": 233,
       "text": [
        "        510       550\n",
        "0  0.001683  0.003750\n",
        "1  0.001354  0.003105\n",
        "2  0.001533  0.003484\n",
        "3  0.002009  0.004813\n",
        "4  0.001453  0.003317"
       ]
      }
     ],
     "prompt_number": 233
    },
    {
     "cell_type": "code",
     "collapsed": false,
     "input": [
      "df(targetRrs.head())"
     ],
     "language": "python",
     "metadata": {},
     "outputs": [
      {
       "html": [
        "<div style=\"max-height:1000px;max-width:1500px;overflow:auto;\">\n",
        "<table border=\"1\" class=\"dataframe\">\n",
        "  <thead>\n",
        "    <tr style=\"text-align: right;\">\n",
        "      <th></th>\n",
        "      <th>530</th>\n",
        "    </tr>\n",
        "  </thead>\n",
        "  <tbody>\n",
        "    <tr>\n",
        "      <th>0</th>\n",
        "      <td> 0.002664</td>\n",
        "    </tr>\n",
        "    <tr>\n",
        "      <th>1</th>\n",
        "      <td> 0.002183</td>\n",
        "    </tr>\n",
        "    <tr>\n",
        "      <th>2</th>\n",
        "      <td> 0.002449</td>\n",
        "    </tr>\n",
        "    <tr>\n",
        "      <th>3</th>\n",
        "      <td> 0.003315</td>\n",
        "    </tr>\n",
        "    <tr>\n",
        "      <th>4</th>\n",
        "      <td> 0.002329</td>\n",
        "    </tr>\n",
        "  </tbody>\n",
        "</table>\n",
        "</div>"
       ],
       "metadata": {},
       "output_type": "pyout",
       "prompt_number": 235,
       "text": [
        "        530\n",
        "0  0.002664\n",
        "1  0.002183\n",
        "2  0.002449\n",
        "3  0.003315\n",
        "4  0.002329"
       ]
      }
     ],
     "prompt_number": 235
    },
    {
     "cell_type": "code",
     "collapsed": false,
     "input": [
      "# inverse distance interpolation\n",
      "def interp(outputRrs,inputWvl,outputWvl,targ = -1)\n",
      "    out = np.array(outputRrs)\n",
      "   \n",
      "    wts = 1/abs(inputWvl -outputWvl)\n",
      "    interpOut = sum(out*wts,axis=1) / sum(wts)\n"
     ],
     "language": "python",
     "metadata": {},
     "outputs": [],
     "prompt_number": 274
    },
    {
     "cell_type": "code",
     "collapsed": false,
     "input": [
      "# plot comparison between computed and target Rrs\n",
      "import matplotlib.pyplot as plt\n",
      "% matplotlib inline\n",
      "targ = np.array(targetRrs) # we don't know this\n",
      "relDiff = 200 * (interpOut - targ) / (interpOut + target)\n",
      "plt.figure(figsize = (12.5,7));\n",
      "plt.scatter(t,io,alpha = 0.5,label='mean perc.diff. = %f' % np.mean(relDiff));\n",
      "plt.xlabel('original Rrs(530)');\n",
      "plt.ylabel('bandShifted Rrs(530)');\n",
      "plt.legend(loc='best');"
     ],
     "language": "python",
     "metadata": {},
     "outputs": [
      {
       "metadata": {},
       "output_type": "pyout",
       "prompt_number": 298,
       "text": [
        "<matplotlib.legend.Legend at 0x51423d0>"
       ]
      },
      {
       "metadata": {},
       "output_type": "display_data",
       "png": "[encoded data removed]",
       "text": [
        "<matplotlib.figure.Figure at 0x5113ad0>"
       ]
      }
     ],
     "prompt_number": 298
    },
    {
     "cell_type": "code",
     "collapsed": false,
     "input": [],
     "language": "python",
     "metadata": {},
     "outputs": []
    }
   ],
   "metadata": {}
  }
 ]
}